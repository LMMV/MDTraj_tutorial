{
 "cells": [
  {
   "cell_type": "markdown",
   "metadata": {},
   "source": [
    "### Identificar puentes de H (Baker-Hubbard)"
   ]
  },
  {
   "cell_type": "code",
   "execution_count": 1,
   "metadata": {},
   "outputs": [],
   "source": [
    "from __future__ import print_function\n",
    "%matplotlib inline\n",
    "import matplotlib.pyplot as plt\n",
    "import itertools\n",
    "import mdtraj as md\n",
    "import mdtraj.testing"
   ]
  },
  {
   "cell_type": "markdown",
   "metadata": {},
   "source": [
    "#### Cargar un pequeño péptido de 28 residuos"
   ]
  },
  {
   "cell_type": "code",
   "execution_count": 2,
   "metadata": {},
   "outputs": [
    {
     "name": "stdout",
     "output_type": "stream",
     "text": [
      "<mdtraj.Trajectory with 20 frames, 423 atoms, 28 residues, without unitcells>\n"
     ]
    },
    {
     "name": "stderr",
     "output_type": "stream",
     "text": [
      "/home/liliana/Myopt/Miniconda/miniconda3/envs/UIBCDF_lab/lib/python3.7/site-packages/mdtraj/formats/pdb/pdbfile.py:198: UserWarning: Unlikely unit cell vectors detected in PDB file likely resulting from a dummy CRYST1 record. Discarding unit cell vectors.\n",
      "  'cell vectors.', category=UserWarning)\n"
     ]
    }
   ],
   "source": [
    "t = md.load_pdb('http://www.rcsb.org/pdb/files/2EQQ.pdb')\n",
    "\n",
    "print(t)"
   ]
  },
  {
   "cell_type": "markdown",
   "metadata": {},
   "source": [
    "**md.baker_hubbard** identifica enlaces de hidrógeno en los puntos de corte para el donante-H, distancia y ángulo del aceptor.\n",
    "\n",
    "El valor de retorno es una lista de los índices de los átomos (donante --H-- aceptor) que satisfacen este criterio."
   ]
  },
  {
   "cell_type": "code",
   "execution_count": 3,
   "metadata": {},
   "outputs": [
    {
     "name": "stdout",
     "output_type": "stream",
     "text": [
      "GLU1-N -- GLU1-OE2\n",
      "GLU1-N -- GLU1-OE1\n",
      "GLY6-N -- SER4-O\n",
      "CYS7-N -- GLY5-O\n",
      "TYR11-N -- VAL8-O\n",
      "MET12-N -- LYS20-O\n",
      "ARG13-NH1 -- TYR11-O\n",
      "THR14-N -- ARG18-O\n",
      "ASP16-N -- ASP16-OD1\n",
      "GLY17-N -- THR14-O\n",
      "ARG18-N -- THR14-OG1\n",
      "ARG18-NE -- ASP16-OD2\n",
      "LYS20-N -- MET12-O\n",
      "THR22-N -- GLY10-O\n",
      "THR14-OG1 -- ASP16-OD1\n",
      "THR28-OG1 -- ILE27-O\n"
     ]
    }
   ],
   "source": [
    "hbonds = md.baker_hubbard(t, periodic=False)\n",
    "label = lambda hbond : '%s -- %s' % (t.topology.atom(hbond[0]), t.topology.atom(hbond[2]))\n",
    "for hbond in hbonds:\n",
    "    print(label(hbond))"
   ]
  },
  {
   "cell_type": "markdown",
   "metadata": {},
   "source": [
    "#### Calcular las distancias reales entre donantes y aceptores."
   ]
  },
  {
   "cell_type": "code",
   "execution_count": 4,
   "metadata": {},
   "outputs": [],
   "source": [
    "da_distances = md.compute_distances(t, hbonds[:, [0,2]], periodic = False)"
   ]
  },
  {
   "cell_type": "markdown",
   "metadata": {},
   "source": [
    "#### Calculando un histograma"
   ]
  },
  {
   "cell_type": "code",
   "execution_count": 5,
   "metadata": {},
   "outputs": [
    {
     "data": {
      "text/plain": [
       "Text(0.5, 0, 'Donor-acceptor distance [nm]')"
      ]
     },
     "execution_count": 5,
     "metadata": {},
     "output_type": "execute_result"
    },
    {
     "data": {
      "image/png": "[encoded data removed]",
      "text/plain": [
       "<Figure size 432x288 with 1 Axes>"
      ]
     },
     "metadata": {
      "needs_background": "light"
     },
     "output_type": "display_data"
    }
   ],
   "source": [
    "color = itertools.cycle(['r', 'b', 'gold'])\n",
    "for i in [2, 3, 4]:\n",
    "    plt.hist(da_distances[:, i], color = next(color), label = label (hbonds[i]), alpha = 0.5)\n",
    "plt.legend()\n",
    "plt.ylabel('Freq');\n",
    "plt.xlabel('Donor-acceptor distance [nm]')"
   ]
  },
  {
   "cell_type": "code",
   "execution_count": null,
   "metadata": {},
   "outputs": [],
   "source": []
  }
 ],
 "metadata": {
  "kernelspec": {
   "display_name": "Python 3",
   "language": "python",
   "name": "python3"
  },
  "language_info": {
   "codemirror_mode": {
    "name": "ipython",
    "version": 3
   },
   "file_extension": ".py",
   "mimetype": "text/x-python",
   "name": "python",
   "nbconvert_exporter": "python",
   "pygments_lexer": "ipython3",
   "version": "3.7.3"
  }
 },
 "nbformat": 4,
 "nbformat_minor": 2
}
