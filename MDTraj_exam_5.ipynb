{
 "cells": [
  {
   "cell_type": "markdown",
   "metadata": {},
   "source": [
    "### Fracción de contactos nativos"
   ]
  },
  {
   "cell_type": "markdown",
   "metadata": {},
   "source": [
    "Los contactos nativos determinan los mecanismos de plegamiento de proteínas en simulaciones atomísticas."
   ]
  },
  {
   "cell_type": "markdown",
   "metadata": {},
   "source": [
    "(𝑄(𝑋)=1 / |𝑆| * (∑(𝑖,𝑗)∈𝑆 (1 / (1 + exp[𝛽(𝑟𝑖𝑗(𝑋)−𝜆𝑟0𝑖𝑗]))\n",
    "\n",
    "\n",
    "$X$ is a conformation,\n",
    "$r_{ij}(X)$ is the distance between atoms $i$ and $j$ in conformation $X$,\n",
    "$r^0_{ij}$ is the distance from heavy atom i to j in the native state conformation,\n",
    "$S$ is the set of all pairs of heavy atoms $(i,j)$ belonging to residues $\\theta_i$ and $\\theta_j$ such that $|\\theta_i - \\theta_j| > 3$ and $r^0_{i,} < 4.5 \\unicode{x212B}$,\n",
    "$\\beta=5 \\unicode{x212B}^{-1}$,\n",
    "$\\lambda=1.8$ for all-atom simulations\n"
   ]
  },
  {
   "cell_type": "code",
   "execution_count": 1,
   "metadata": {},
   "outputs": [],
   "source": [
    "import numpy as np\n",
    "import mdtraj as md\n",
    "from itertools import combinations\n",
    "\n",
    "def best_hummer_q(traj, native):\n",
    "    \n",
    "    \"\"\"Compute the fraction of native contacts according the definition from\n",
    "    Best, Hummer and Eaton [1]\n",
    "    \n",
    "    Parameters\n",
    "    ----------\n",
    "    traj : md.Trajectory\n",
    "        The trajectory to do the computation for\n",
    "    native : md.Trajectory\n",
    "        The 'native state'. This can be an entire trajecory, or just a single frame.\n",
    "        Only the first conformation is used\n",
    "        \n",
    "    Returns\n",
    "    -------\n",
    "    q : np.array, shape=(len(traj),)\n",
    "        The fraction of native contacts in each frame of `traj`\n",
    "        \n",
    "    References\n",
    "    ----------\n",
    "    ..[1] Best, Hummer, and Eaton, \"Native contacts determine protein folding\n",
    "          mechanisms in atomistic simulations\" PNAS (2013)\n",
    "    \"\"\"\n",
    "    \n",
    "    BETA_CONST = 50 #1/nm\n",
    "    LAMBDA_CONST = 1.8\n",
    "    NATIVE_CUTOFF = 0.45 # nanometers\n",
    "    \n",
    "    \n",
    "    # Obtener los índices de todos los átomos pesados:\n",
    "    \n",
    "    heavy = native.topology.select_atom_indices('heavy')\n",
    "    \n",
    "    \n",
    "    \n",
    "    # Obtener los pares de átomos pesados que están más lejos de 3\n",
    "    \n",
    "    # - Residuos separados    \n",
    "                                 \n",
    "    heavy_pairs = np.array([(i,j) for (i,j) in combinations(heavy, 2)\n",
    "            if abs(native.topology.atom(i).residue.index - \\\n",
    "                   native.topology.atom(j).residue.index) > 3])                        \n",
    "                           \n",
    "    \n",
    "    # Calcular las distancias entre estos pares en el estado nativo:\n",
    "        \n",
    "    heavy_pairs_distances = md.compute_distances(native[0], heavy_pairs)[0]\n",
    "    \n",
    "    \n",
    "    \n",
    "    # Obtener las parejas s.t. en las que la distancia es menor que NATIVE_CUTOFF:\n",
    "    \n",
    "    native_contacts = heavy_pairs[heavy_pairs_distances < NATIVE_CUTOFF]\n",
    "    \n",
    "    print(\"Number of native contacts\", len(native_contacts))\n",
    "    \n",
    "    \n",
    "    \n",
    "    # Calcular estas distancias para toda la trayectoria:\n",
    "    \n",
    "    r = md.compute_distances(traj, native_contacts)\n",
    "    \n",
    "    \n",
    "    # Recomputar solo para el estado nativo\n",
    "    \n",
    "    r0 = md.compute_distances(native[0], native_contacts)\n",
    "    \n",
    "    q = np.mean(1.0 / (1 + np.exp(BETA_CONST * (r - LAMBDA_CONST * r0))), axis=1)\n",
    "    \n",
    "    return q"
   ]
  },
  {
   "cell_type": "code",
   "execution_count": 2,
   "metadata": {},
   "outputs": [
    {
     "name": "stdout",
     "output_type": "stream",
     "text": [
      "Number of native contacts 526\n"
     ]
    },
    {
     "name": "stderr",
     "output_type": "stream",
     "text": [
      "/home/liliana/Myopt/Miniconda/miniconda3/envs/UIBCDF_lab/lib/python3.7/site-packages/mdtraj/formats/pdb/pdbfile.py:198: UserWarning: Unlikely unit cell vectors detected in PDB file likely resulting from a dummy CRYST1 record. Discarding unit cell vectors.\n",
      "  'cell vectors.', category=UserWarning)\n"
     ]
    }
   ],
   "source": [
    "# Extraer una proteína al azar del PDB \n",
    "# (La información de la celda unitaria es incorrecta)\n",
    "\n",
    "traj = md.load_pdb('http://www.rcsb.org/pdb/files/2MI7.pdb')\n",
    "\n",
    "# Utilizando el primer frame como la conformación 'nativa'\n",
    "\n",
    "q = best_hummer_q(traj, traj[0])\n"
   ]
  },
  {
   "cell_type": "code",
   "execution_count": 3,
   "metadata": {},
   "outputs": [
    {
     "data": {
      "text/plain": [
       "<function matplotlib.pyplot.show(*args, **kw)>"
      ]
     },
     "execution_count": 3,
     "metadata": {},
     "output_type": "execute_result"
    },
    {
     "data": {
      "image/png": "[encoded data removed]",
      "text/plain": [
       "<Figure size 432x288 with 1 Axes>"
      ]
     },
     "metadata": {
      "needs_background": "light"
     },
     "output_type": "display_data"
    }
   ],
   "source": [
    "%matplotlib inline\n",
    "\n",
    "import matplotlib.pyplot as plt\n",
    "plt.plot(q)\n",
    "plt.xlabel('Frame', fontsize = 14)\n",
    "plt.ylabel('Q(X)', fontsize = 14)\n",
    "plt.show"
   ]
  },
  {
   "cell_type": "code",
   "execution_count": null,
   "metadata": {},
   "outputs": [],
   "source": []
  }
 ],
 "metadata": {
  "kernelspec": {
   "display_name": "Python 3",
   "language": "python",
   "name": "python3"
  },
  "language_info": {
   "codemirror_mode": {
    "name": "ipython",
    "version": 3
   },
   "file_extension": ".py",
   "mimetype": "text/x-python",
   "name": "python",
   "nbconvert_exporter": "python",
   "pygments_lexer": "ipython3",
   "version": "3.7.3"
  }
 },
 "nbformat": 4,
 "nbformat_minor": 2
}
