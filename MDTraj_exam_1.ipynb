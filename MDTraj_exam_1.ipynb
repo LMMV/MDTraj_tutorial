{
 "cells": [
  {
   "cell_type": "markdown",
   "metadata": {},
   "source": [
    "### Cargando la trayectoria"
   ]
  },
  {
   "cell_type": "code",
   "execution_count": 1,
   "metadata": {},
   "outputs": [
    {
     "name": "stdout",
     "output_type": "stream",
     "text": [
      "<mdtraj.Trajectory with 100 frames, 22 atoms, 3 residues, without unitcells>\n"
     ]
    }
   ],
   "source": [
    "from __future__ import print_function\n",
    "import mdtraj as md\n",
    "\n",
    "traj = md.load('ala2.h5')\n",
    "print(traj)"
   ]
  },
  {
   "cell_type": "markdown",
   "metadata": {},
   "source": [
    "### Cuántos átomos o residuos hay?"
   ]
  },
  {
   "cell_type": "code",
   "execution_count": 2,
   "metadata": {},
   "outputs": [
    {
     "name": "stdout",
     "output_type": "stream",
     "text": [
      "How many atoms? 22\n"
     ]
    }
   ],
   "source": [
    "print ('How many atoms? %s' % traj.n_atoms)"
   ]
  },
  {
   "cell_type": "code",
   "execution_count": 3,
   "metadata": {},
   "outputs": [
    {
     "name": "stdout",
     "output_type": "stream",
     "text": [
      "How many residues? 3\n"
     ]
    }
   ],
   "source": [
    "print('How many residues? %s' % traj.n_residues)"
   ]
  },
  {
   "cell_type": "markdown",
   "metadata": {},
   "source": [
    "### Buscando coordenadas de un residuo x"
   ]
  },
  {
   "cell_type": "code",
   "execution_count": 4,
   "metadata": {},
   "outputs": [
    {
     "name": "stdout",
     "output_type": "stream",
     "text": [
      "Where is the fifth atom at the tenth frame?\n",
      "x: 0.69715095\ty: 0.92419046\tz: 0.87260383\n"
     ]
    }
   ],
   "source": [
    "frame_idx = 4 #zero indexed frame number\n",
    "atom_idx = 9 #zero indexed atom index\n",
    "\n",
    "print('Where is the fifth atom at the tenth frame?')\n",
    "print('x: %s\\ty: %s\\tz: %s' %tuple(traj.xyz[frame_idx, atom_idx,:]))\n"
   ]
  },
  {
   "cell_type": "code",
   "execution_count": 5,
   "metadata": {},
   "outputs": [
    {
     "name": "stdout",
     "output_type": "stream",
     "text": [
      "<mdtraj.Topology with 1 chains, 3 residues, 22 atoms, 21 bonds>\n"
     ]
    }
   ],
   "source": [
    "#Topology contiene toda la información de conectividad del sistema e información específica sobre cadenas, residuos y átomos.\n",
    "\n",
    "topology = traj.topology \n",
    "print(topology)"
   ]
  },
  {
   "cell_type": "markdown",
   "metadata": {},
   "source": [
    "### Seleccionando cierto átom y cierto residuo = D "
   ]
  },
  {
   "cell_type": "code",
   "execution_count": 6,
   "metadata": {},
   "outputs": [
    {
     "name": "stdout",
     "output_type": "stream",
     "text": [
      "Fifth atom: ACE1-C\n",
      "All atoms: [ACE1-H1, ACE1-CH3, ACE1-H2, ACE1-H3, ACE1-C, ACE1-O, ALA2-N, ALA2-H, ALA2-CA, ALA2-HA, ALA2-CB, ALA2-HB1, ALA2-HB2, ALA2-HB3, ALA2-C, ALA2-O, NME3-N, NME3-H, NME3-C, NME3-H1, NME3-H2, NME3-H3]\n"
     ]
    }
   ],
   "source": [
    "print('Fifth atom: %s' % topology.atom(4))\n",
    "print('All atoms: %s' % [atom for atom in topology.atoms])"
   ]
  },
  {
   "cell_type": "code",
   "execution_count": 7,
   "metadata": {},
   "outputs": [
    {
     "name": "stdout",
     "output_type": "stream",
     "text": [
      "Second residue: ALA2\n",
      "All residues: [ACE1, ALA2, NME3]\n"
     ]
    }
   ],
   "source": [
    "print('Second residue: %s' % traj.topology.residue(1))\n",
    "print('All residues: %s' %[residue for residue in traj.topology.residues])"
   ]
  },
  {
   "cell_type": "markdown",
   "metadata": {},
   "source": [
    "### Algunas propiedades de los átomos"
   ]
  },
  {
   "cell_type": "code",
   "execution_count": 8,
   "metadata": {},
   "outputs": [
    {
     "name": "stdout",
     "output_type": "stream",
     "text": [
      "Hi! Iam the 10th atom, and my name is CB. \n",
      "I am a carbon atom with 4 bonds. \n",
      "I am part of an ALA residue.\n"
     ]
    }
   ],
   "source": [
    "atom = topology.atom(10)\n",
    "\n",
    "print('''Hi! Iam the %sth atom, and my name is %s. \n",
    "I am a %s atom with %s bonds. \n",
    "I am part of an %s residue.''' \n",
    "      \n",
    "% (atom.index, atom.name, atom.element.name, atom.n_bonds, atom.residue.name))"
   ]
  },
  {
   "cell_type": "markdown",
   "metadata": {},
   "source": [
    "### Índices de todos los átomos de carbono en las cadenas laterales de la molécula"
   ]
  },
  {
   "cell_type": "code",
   "execution_count": 12,
   "metadata": {},
   "outputs": [
    {
     "name": "stdout",
     "output_type": "stream",
     "text": [
      "[1, 10]\n"
     ]
    }
   ],
   "source": [
    "print([atom.index for atom in topology.atoms if atom.element.symbol is 'C' and atom.is_sidechain])"
   ]
  },
  {
   "cell_type": "markdown",
   "metadata": {},
   "source": [
    "Los residuos con índice par en la primera cadena"
   ]
  },
  {
   "cell_type": "code",
   "execution_count": 16,
   "metadata": {},
   "outputs": [
    {
     "name": "stdout",
     "output_type": "stream",
     "text": [
      "[ACE1, NME3]\n"
     ]
    }
   ],
   "source": [
    "print([residue for residue in topology.chain(0).residues if residue.index % 2 ==0])"
   ]
  },
  {
   "cell_type": "markdown",
   "metadata": {},
   "source": [
    "### Encontrando todos los átomos en los dos últimos residuos"
   ]
  },
  {
   "cell_type": "code",
   "execution_count": 25,
   "metadata": {},
   "outputs": [
    {
     "name": "stdout",
     "output_type": "stream",
     "text": [
      "[ 0  1  2  3  4  5  6  7  8  9 10 11 12 13 14 15 16 17 18 19 20 21]\n"
     ]
    }
   ],
   "source": [
    "print(topology.select('resid 0 to 2'))"
   ]
  },
  {
   "cell_type": "markdown",
   "metadata": {},
   "source": [
    "### Encontrando todos los átomos de N en el backbone"
   ]
  },
  {
   "cell_type": "code",
   "execution_count": 30,
   "metadata": {},
   "outputs": [
    {
     "name": "stdout",
     "output_type": "stream",
     "text": [
      "[ 6 16]\n"
     ]
    }
   ],
   "source": [
    "print(topology.select('name N and backbone'))"
   ]
  },
  {
   "cell_type": "markdown",
   "metadata": {},
   "source": []
  },
  {
   "cell_type": "code",
   "execution_count": 32,
   "metadata": {},
   "outputs": [
    {
     "name": "stdout",
     "output_type": "stream",
     "text": [
      "[atom.index for atom in topology.atoms if ((atom.name == 'CA') and (1 <= atom.residue.index <= 2))]\n"
     ]
    }
   ],
   "source": [
    "selection = topology.select_expression('name CA and resid 1 to 2')\n",
    "\n",
    "print(selection)"
   ]
  },
  {
   "cell_type": "code",
   "execution_count": null,
   "metadata": {},
   "outputs": [],
   "source": []
  }
 ],
 "metadata": {
  "kernelspec": {
   "display_name": "Python 3",
   "language": "python",
   "name": "python3"
  },
  "language_info": {
   "codemirror_mode": {
    "name": "ipython",
    "version": 3
   },
   "file_extension": ".py",
   "mimetype": "text/x-python",
   "name": "python",
   "nbconvert_exporter": "python",
   "pygments_lexer": "ipython3",
   "version": "3.7.3"
  }
 },
 "nbformat": 4,
 "nbformat_minor": 2
}
